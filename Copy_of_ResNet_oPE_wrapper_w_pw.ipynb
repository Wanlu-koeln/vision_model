{
  "cells": [
    {
      "cell_type": "markdown",
      "metadata": {
        "id": "view-in-github",
        "colab_type": "text"
      },
      "source": [
        "<a href=\"https://colab.research.google.com/github/Wanlu-koeln/vision_model/blob/main/Copy_of_ResNet_oPE_wrapper_w_pw.ipynb\" target=\"_parent\"><img src=\"https://colab.research.google.com/assets/colab-badge.svg\" alt=\"Open In Colab\"/></a>"
      ]
    },
    {
      "cell_type": "code",
      "execution_count": null,
      "metadata": {
        "colab": {
          "base_uri": "https://localhost:8080/"
        },
        "id": "ORCaFbkpsNMd",
        "outputId": "9514a11d-cd38-4ed6-b073-98ce9f0d0fdc"
      },
      "outputs": [
        {
          "output_type": "stream",
          "name": "stdout",
          "text": [
            "Mounted at /content/drive\n"
          ]
        }
      ],
      "source": [
        "from torchvision.models import resnet18\n",
        "from torch import nn, save, max, no_grad, randperm\n",
        "import torch.optim as optim\n",
        "from torchvision.datasets import ImageFolder\n",
        "from torch.utils.data import DataLoader, SubsetRandomSampler\n",
        "import torchvision.transforms as transforms\n",
        "from google.colab import drive\n",
        "from numpy import mean\n",
        "import pandas as pd\n",
        "import sys\n",
        "import os"
      ]
    },
    {
      "cell_type": "code",
      "source": [
        "foder_path = os.path.abspath('/Users/wanlufu/Desktop/vision_model')\n",
        "sys.path.append(folder_path)"
      ],
      "metadata": {
        "id": "fHxOzcT_b8SC"
      },
      "execution_count": null,
      "outputs": []
    },
    {
      "cell_type": "code",
      "execution_count": null,
      "metadata": {
        "id": "0bZdTmU6H-XQ"
      },
      "outputs": [],
      "source": [
        "#!unzip /content/drive/MyDrive/ColabNotebooks/images_for_vision_recognition_models_w_vs_pw_large.zip -d /content/drive/MyDrive/ColabNotebooks/"
      ]
    },
    {
      "cell_type": "code",
      "execution_count": null,
      "metadata": {
        "id": "ZhCJFNmBXr6-"
      },
      "outputs": [],
      "source": [
        "def load_train_data(folder = \"normal\", N_train_samples = 100):\n",
        "  transform = transforms.Compose([\n",
        "      transforms.Grayscale(),\n",
        "      transforms.ToTensor(), \n",
        "      transforms.Normalize((0.5,), (0.5,)) \n",
        "    ])\n",
        "  train_ds = ImageFolder(root = '/Users/wanlufu/Desktop/vision_model/images_for_vision_recognition_models_w_vs_pw_large/'+folder+'/train', transform=transform)\n",
        "  subsample_train_indices = randperm(len(train_ds))[:N_train_samples]\n",
        "  train_dl = DataLoader(train_ds, batch_size=64, sampler=SubsetRandomSampler(subsample_train_indices))\n",
        "  return train_dl\n",
        "\n",
        "def load_test_data(folder = \"normal\"):\n",
        "  transform = transforms.Compose([\n",
        "      transforms.Grayscale(),\n",
        "      transforms.ToTensor(), \n",
        "      transforms.Normalize((0.5,), (0.5,)) \n",
        "    ])\n",
        "  test_ds = ImageFolder(root='/Users/wanlufu/Desktop/vision_model/images_for_vision_recognition_models_w_vs_pw_large/'+folder+'/test', transform=transform)\n",
        "  test_dl = DataLoader(test_ds, batch_size=64)\n",
        "  return test_ds\n",
        "\n",
        "def fit_test_model(folder = \"normal\", N_train_samples = 100):\n",
        "  \n",
        "  train_dl = load_train_data(folder = folder, N_train_samples = N_train_samples)\n",
        "  test_dl = load_train_data(folder = folder)\n",
        "  \n",
        "  model = resnet18(num_classes=2) \n",
        "  model.conv1 = nn.Conv2d(1, 64, kernel_size=(63, 63), stride=(2, 2), padding=1, bias=False)\n",
        "\n",
        "  # Define the optimizer and loss function\n",
        "  optimizer = optim.SGD(model.parameters(), lr=0.1, momentum=0.9)\n",
        "  criterion = nn.CrossEntropyLoss()\n",
        "  #print(train_dl)\n",
        "  for _ in range(17):\n",
        "      for inputs, labels in train_dl:\n",
        "        optimizer.zero_grad()\n",
        "        outputs = model(inputs)\n",
        "        loss = criterion(outputs, labels)\n",
        "        loss.backward()\n",
        "        optimizer.step()\n",
        "        \n",
        "  total = 0\n",
        "  correct = 0\n",
        "  model.eval()\n",
        "  with no_grad(): # This is optional but saves memory\n",
        "    for inputs, labels in test_dl:\n",
        "        # Forward pass\n",
        "        outputs = model(inputs)\n",
        "        # Calculate predictions\n",
        "        _, predicted = max(outputs, 1)\n",
        "        # Calculate accuracy (optional)\n",
        "        total += labels.size(0)\n",
        "        correct += (predicted == labels).sum().item()\n",
        "\n",
        "  return (correct / total)"
      ]
    },
    {
      "cell_type": "code",
      "execution_count": null,
      "metadata": {
        "id": "32UtPc-sZoSm"
      },
      "outputs": [],
      "source": [
        "def wrapper_model_fit(folder_list = [\"40p\",\"80p\"], N_train_samples_list = [1240, 2479, 3719, 4958], iterations = 10):\n",
        "  data = []\n",
        "\n",
        "  for folder in folder_list:\n",
        "    for N_train_samples in N_train_samples_list:\n",
        "      print(str(N_train_samples)+\" \"+folder)\n",
        "      acc_list = [fit_test_model(folder = folder, N_train_samples = N_train_samples) for i in range(iterations)]\n",
        "      print(mean(acc_list))\n",
        "      [data.append({'folder': folder, 'train_samples': N_train_samples, 'acc': acc}) for acc in acc_list]\n",
        "\n",
        "  return data"
      ]
    },
    {
      "cell_type": "code",
      "execution_count": null,
      "metadata": {
        "colab": {
          "base_uri": "https://localhost:8080/"
        },
        "id": "5KU6OI5Zbe4S",
        "outputId": "c2fa08c3-159e-436b-f685-4c4b9c93ac9e"
      },
      "outputs": [
        {
          "output_type": "stream",
          "name": "stdout",
          "text": [
            "11500 50p\n"
          ]
        }
      ],
      "source": [
        " N = 11500\n",
        "#[round(N*.1), round(N*.25), round(N*.5), round(N*.75), round(N*1)]\n",
        "data = wrapper_model_fit(folder_list = [\"50p\",\"normal\"], N_train_samples_list = [round(N)], iterations = 5)\n",
        "df = pd.DataFrame.from_records(data)\n",
        "df"
      ]
    },
    {
      "cell_type": "code",
      "execution_count": null,
      "metadata": {
        "id": "RAYCDU_jVBG3"
      },
      "outputs": [],
      "source": [
        "import seaborn as sns\n",
        "import matplotlib.pyplot as plt\n"
      ]
    },
    {
      "cell_type": "code",
      "execution_count": null,
      "metadata": {
        "colab": {
          "base_uri": "https://localhost:8080/",
          "height": 458
        },
        "id": "4e7nvlqUVLIj",
        "outputId": "b947315e-10c0-4421-9c41-df051f18481f"
      },
      "outputs": [
        {
          "data": {
            "image/png": "[encoded data removed]",
            "text/plain": [
              "<Figure size 640x480 with 1 Axes>"
            ]
          },
          "metadata": {},
          "output_type": "display_data"
        }
      ],
      "source": [
        "# set a grey background (use sns.set_theme() if seaborn version 0.11.0 or above) \n",
        "sns.set(style=\"darkgrid\") \n",
        "# Grouped violinplot\n",
        "sns.violinplot(x=\"folder\", y=\"acc\", hue=\"train_samples\", data=df, palette=\"Pastel1\")\n",
        "plt.show()"
      ]
    }
  ],
  "metadata": {
    "colab": {
      "provenance": [],
      "include_colab_link": true
    },
    "kernelspec": {
      "display_name": "Python 3",
      "name": "python3"
    }
  },
  "nbformat": 4,
  "nbformat_minor": 0
}